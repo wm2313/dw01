{
 "cells": [
  {
   "cell_type": "markdown",
   "metadata": {},
   "source": [
    "# 第三章 k近邻法\n",
    "## 3.1 k近邻算法\n",
    "### 算法3.1（k近邻法）\n",
    "输入：训练数据集\n",
    "$$T=\\{(x_1,y_1),(x_2,y_2),…,(x_N,y_N)\\}$$\n",
    "其中，$x_i\\in \\mathcal{X} \\subseteq \\mathbb{R}^n$为实例的特征向量，$y_i \\in \\mathcal{Y}=\\{c_1,c_2,…,c_K\\}$为实例的类别，i=1,2,…,N；实例特征向量$x$；\n",
    "\n",
    "输出：实例$x$所属的类$y$.\n",
    "\n",
    "（1）根据给定的距离度量，在训练集T中找出与$x$最邻近的k个点，涵盖这k个点的$x$的邻域记作$N_k(x)$\n",
    "\n",
    "（2）在$N_k(x)$中根据分类决策规则（如多数表决）决定$x$的类别$y$\n",
    "$$y=arg \\mathop{\\max}_{c_j}\\sum_{x_i \\in N_k(x)}I(y_i=c_j),\\quad i=1,2,…,N;j=1,2,…,K$$\n",
    "$I$为指示函数，当$y_i=c_j$时，$I$为1，否则，$I$为0。"
   ]
  },
  {
   "cell_type": "markdown",
   "metadata": {},
   "source": [
    "## 3.2 k近邻模型\n",
    "k近邻法使用的模型实际上对应于对特征空间的划分。模型由三个基本要素——距离度量，k值得选择和分类决策规则决定。"
   ]
  },
  {
   "cell_type": "markdown",
   "metadata": {},
   "source": [
    "## 3.3 kd树\n",
    "k-d tree即k-dimensional tree，常用来作空间划分及近邻搜索，是二叉空间划分树的一个特例。通常，对于维度为k，数据点数为N的数据集，k-d tree适用于N≫2k的情形。\n",
    "\n",
    "k-d tree是每个节点均为k维数值点的二叉树，其上的每个节点代表一个超平面，该超平面垂直于当前划分维度的坐标轴，并在该维度上将空间划分为两部分，一部分在其左子树，另一部分在其右子树。即若当前节点的划分维度为d，其左子树上所有点在d维的坐标值均小于当前值，右子树上所有点在d维的坐标值均大于等于当前值，本定义对其任意子节点均成立。"
   ]
  },
  {
   "cell_type": "code",
   "execution_count": 49,
   "metadata": {},
   "outputs": [],
   "source": [
    "## k-d tree\n",
    "class Node:\n",
    "    def __init__(self,data=None,left=None,right=None):\n",
    "        self.data = data\n",
    "        self.right = right\n",
    "        self.left = left\n",
    "import operator\n",
    "def kd_tree(points, depth):\n",
    "    if 0 == len(points):\n",
    "        return None\n",
    "    cutting_dim = depth % len(points[0])\n",
    "    medium_index = len(points) // 2\n",
    "    points.sort(key=operator.itemgetter(cutting_dim))\n",
    "    node = Node(points[medium_index])\n",
    "    node.left = kd_tree(points[:medium_index], depth + 1)\n",
    "    node.right = kd_tree(points[medium_index + 1:], depth + 1)\n",
    "    return node"
   ]
  },
  {
   "cell_type": "markdown",
   "metadata": {},
   "source": [
    "习题 3.2 最近邻点为$[2,3]$"
   ]
  },
  {
   "cell_type": "code",
   "execution_count": 50,
   "metadata": {},
   "outputs": [
    {
     "name": "stdout",
     "output_type": "stream",
     "text": [
      "[[1.80277564]] [[0]]\n"
     ]
    }
   ],
   "source": [
    "## sk-learn\n",
    "import numpy as np\n",
    "from matplotlib import pyplot as plt\n",
    "from matplotlib.patches import Circle\n",
    "from sklearn.neighbors import KDTree\n",
    "np.random.seed(0)\n",
    "points = np.array([[2,3],[5,4],[9,6],[4,7],[8,1],[7,2]])\n",
    "tree = KDTree(points)\n",
    "point = [3,4.5]\n",
    "# kNN\n",
    "dists, indices = tree.query([point], k=1)\n",
    "print(dists, indices)"
   ]
  },
  {
   "cell_type": "code",
   "execution_count": null,
   "metadata": {},
   "outputs": [],
   "source": []
  }
 ],
 "metadata": {
  "kernelspec": {
   "display_name": "Python 3",
   "language": "python",
   "name": "python3"
  },
  "language_info": {
   "codemirror_mode": {
    "name": "ipython",
    "version": 3
   },
   "file_extension": ".py",
   "mimetype": "text/x-python",
   "name": "python",
   "nbconvert_exporter": "python",
   "pygments_lexer": "ipython3",
   "version": "3.8.3"
  }
 },
 "nbformat": 4,
 "nbformat_minor": 4
}
