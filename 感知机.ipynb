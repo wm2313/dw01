{
 "cells": [
  {
   "cell_type": "markdown",
   "metadata": {},
   "source": [
    "# 第二章 感知机\n",
    "## 2.1 感知机模型"
   ]
  },
  {
   "cell_type": "markdown",
   "metadata": {},
   "source": [
    "**定义2.1（感知机）**  假设输入空间（特征空间）是$\\mathcal{X} \\subseteq \\mathbb(R)^n$，输出空间是$\\mathcal{Y}={+1,-1}$，输入$x \\in \\mathcal{X}$表示实例的特征向量，对应于输入空间（特征空间）的点；输出$y \\in \\mathcal{Y}$表示实例的类别。由输入空间到输出空间的如下函数：\n",
    "$$f(x)=sign(w\\cdot x+b)$$\n",
    "称为感知机。其中$w$和$b$为感知机模型参数，$w \\in \\mathbb{R}^n$叫做权值（weight）或权值向量（weight vector），$b \\in \\mathbb{R}$叫做偏置（bias），$w\\cdot x$表示$w$和$x$的内积。sign是符号函数。\n",
    "\n",
    "感知机是一种线性分类模型，属于判别模型。感知机模型的假设空间定义在特征空间中的所有线性分类模型（linear classification model）或线性分类器（linear classifier）。"
   ]
  },
  {
   "cell_type": "markdown",
   "metadata": {},
   "source": [
    "### 2.2.2 感知机学习策略\n",
    "假设超平面S的所有误分类点的集合为M，所有误分类点到超平面S的总距离为：\n",
    "$$-\\frac{1}{\\| w\\|}\\sum_{x_i\\in M}y_i(w\\cdot x_i+b)$$\n",
    "忽略$\\frac{1}{\\| w\\|}$得到感知机学习的损失函数。\n",
    "\n",
    "感知机$sign(w\\cdot x+b)$的损失函数（经验风险函数）定义为：\n",
    "$$L(w,b)=-\\sum_{x_i\\in M}y_i(w\\cdot x_i+b)$$"
   ]
  },
  {
   "cell_type": "markdown",
   "metadata": {},
   "source": [
    "\n",
    "## 2.3 感知机学习算法\n",
    "对给定的训练集$T={(x_1,y_1),(x_2,y_2),…,(x_N,y_N)}$，其中$x_i \\in \\mathcal{X}=\\mathbb{R}^n$，$y_i \\in \\mathcal{Y}={-1,1}$，$i=1,2,…,N$，求参数$w$，$b$，使其为下述损失函数极小化的解\n",
    "$$\\mathop{\\min}_{w,b}L(w,b)=-\\sum_{x_i\\in M}y_i(w\\cdot x_i+b)$$\n",
    "采用随机梯度下降法（stochastic gradient descent）\n",
    "\n",
    "假设误分类点M是固定的，损失函数$L(w,b)$的梯度由\n",
    "$$\\triangledown_wL(w,b)=-\\sum_{x_i\\in M}y_ix_i$$\n",
    "$$\\triangledown_bL(w,b)=-\\sum_{x_i\\in M}y_i$$\n",
    "随机选取一个误分类点$(x_i,y_i)$，对$w$,$b$进行更新：\n",
    "$$w\\leftarrow w+\\eta y_ix_i$$\n",
    "$$b\\leftarrow b+\\eta y_i$$\n",
    "其中$\\eta$（$0<\\eta\\leqslant 1$）是步长，统计学习中又称为学习率（learning rate）。通过迭代可以是损失函数不断减小，直到为0"
   ]
  },
  {
   "cell_type": "code",
   "execution_count": null,
   "metadata": {},
   "outputs": [],
   "source": []
  }
 ],
 "metadata": {
  "kernelspec": {
   "display_name": "Python 3",
   "language": "python",
   "name": "python3"
  },
  "language_info": {
   "codemirror_mode": {
    "name": "ipython",
    "version": 3
   },
   "file_extension": ".py",
   "mimetype": "text/x-python",
   "name": "python",
   "nbconvert_exporter": "python",
   "pygments_lexer": "ipython3",
   "version": "3.8.3"
  }
 },
 "nbformat": 4,
 "nbformat_minor": 4
}
